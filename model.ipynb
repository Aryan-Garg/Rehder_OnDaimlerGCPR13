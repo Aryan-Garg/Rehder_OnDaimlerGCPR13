{
 "cells": [
  {
   "cell_type": "markdown",
   "metadata": {},
   "source": [
    "<h1><center> Understanding how Markovian models perform for autonomous driving(perception) purposes </center></h1>\n",
    "\n",
    "### Paper: Goal Directed Pedestrian Prediction. Eike Rehder, ICCV15 \n",
    "### Dataset: Daimler Dataset GCPR13 \n",
    "\n",
    "#### Implemented by:\n",
    "> Aryan Garg  \n",
    "> Dr. Amit S. Unde"
   ]
  },
  {
   "cell_type": "code",
   "execution_count": 6,
   "metadata": {},
   "outputs": [
    {
     "name": "stdout",
     "output_type": "stream",
     "text": [
      "4.5.2\n",
      "[+]Logging sample images' details\n",
      "Images: imgrect_000000000_c0.pgm and imgrect_000000000_c1.pgm\n",
      "(Shapes)L: (320, 588, 3) R: (320, 588, 3)\n",
      "\n",
      "Images: imgrect_000000001_c0.pgm and imgrect_000000001_c1.pgm\n",
      "(Shapes)L: (320, 588, 3) R: (320, 588, 3)\n",
      "\n",
      "Images: imgrect_000000002_c0.pgm and imgrect_000000002_c1.pgm\n",
      "(Shapes)L: (320, 588, 3) R: (320, 588, 3)\n",
      "\n",
      "Images: imgrect_000000003_c0.pgm and imgrect_000000003_c1.pgm\n",
      "(Shapes)L: (320, 588, 3) R: (320, 588, 3)\n",
      "\n",
      "Images: imgrect_000000004_c0.pgm and imgrect_000000004_c1.pgm\n",
      "(Shapes)L: (320, 588, 3) R: (320, 588, 3)\n",
      "\n",
      "[+] Finished viewing 5 initial samples.\n"
     ]
    }
   ],
   "source": [
    "import cv2 \n",
    "import time\n",
    "import pandas as pd\n",
    "import numpy as np\n",
    "import matplotlib.pyplot as plt\n",
    "\n",
    "trainDataPath = \"C:\\\\Users\\\\HP\\\\Desktop\\\\Research\\\\Trajectory_Markov_Research\\\\Implementations\\Dataset_Dailmer\\\\Data\\\\TrainingData\\\\2012-04-02_115542\\\\RectGrabber\\\\\"\n",
    "\n",
    "class pipeline:\n",
    "    def showSampleImages(self):\n",
    "        print(\"[+]Logging sample images' details\")\n",
    "        for i in range(5):\n",
    "            img_left = \"imgrect_00000000\" + str(i) + \"_c0.pgm\"\n",
    "            img_right = \"imgrect_00000000\" + str(i) + \"_c1.pgm\"\n",
    "            \n",
    "            imgL = cv2.imread(trainDataPath+img_left)\n",
    "            imgR = cv2.imread(trainDataPath+img_right)\n",
    "            imLeft = cv2.resize(imgL, (0,0), fx=0.5, fy=0.5) \n",
    "            imRight = cv2.resize(imgR, (0,0), fx=0.5, fy=0.5) \n",
    "            \n",
    "            if imgL is None or imgR is None:\n",
    "                print(f\"[!]Couldn't load images:\\n{imgL} and {imgR}\\n\")\n",
    "                continue\n",
    "        \n",
    "            print(f\"Images: {img_left} and {img_right}\\n(Shapes)L: {imLeft.shape} R: {imRight.shape}\\n\")\n",
    "            cv2.imshow(f\"Left {img_left}\", imLeft)\n",
    "            cv2.imshow(f\"Right {img_right}\", imRight)\n",
    "            cv2.waitKey(0)\n",
    "            \n",
    "        print(\"[+] Finished viewing 5 initial samples.\")\n",
    "        \n",
    "    def __init__(self):\n",
    "        print(cv2.__version__)\n",
    "        self.showSampleImages()\n",
    "\n",
    "\n",
    "a = pipeline()"
   ]
  },
  {
   "cell_type": "code",
   "execution_count": null,
   "metadata": {},
   "outputs": [],
   "source": []
  }
 ],
 "metadata": {
  "kernelspec": {
   "display_name": "Python 3",
   "language": "python",
   "name": "python3"
  },
  "language_info": {
   "codemirror_mode": {
    "name": "ipython",
    "version": 3
   },
   "file_extension": ".py",
   "mimetype": "text/x-python",
   "name": "python",
   "nbconvert_exporter": "python",
   "pygments_lexer": "ipython3",
   "version": "3.6.9"
  }
 },
 "nbformat": 4,
 "nbformat_minor": 2
}
