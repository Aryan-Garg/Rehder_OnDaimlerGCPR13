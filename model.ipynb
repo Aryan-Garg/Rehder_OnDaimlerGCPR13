{
 "cells": [
  {
   "cell_type": "markdown",
   "metadata": {},
   "source": [
    "<h1><center> Understanding how Markovian models perform for autonomous driving(perception) purposes </center></h1>\n",
    "\n",
    "### Paper: Goal Directed Pedestrian Prediction. Eike Rehder, ICCV15 \n",
    "### Dataset: Daimler Dataset GCPR13 \n",
    "\n",
    "#### Implemented by:\n",
    "> Aryan Garg  \n",
    "> Dr. Amit S. Unde"
   ]
  },
  {
   "cell_type": "code",
   "execution_count": 22,
   "metadata": {},
   "outputs": [
    {
     "name": "stdout",
     "output_type": "stream",
     "text": [
      "Loaded OpenCV version 4.5.2 @ Wed Sep 15 22:20:30 2021\n",
      "\n",
      "[+]Logging sample images' details\n",
      "---------------------\n",
      "1. Image names: imgrect_000000000_c0.pgm & imgrect_000000000_c1.pgm\n",
      "\t\tShape-L: (320, 588, 3)     Shape-R: (320, 588, 3)\n",
      "\n",
      "2. Image names: imgrect_000000001_c0.pgm & imgrect_000000001_c1.pgm\n",
      "\t\tShape-L: (320, 588, 3)     Shape-R: (320, 588, 3)\n",
      "\n",
      "3. Image names: imgrect_000000002_c0.pgm & imgrect_000000002_c1.pgm\n",
      "\t\tShape-L: (320, 588, 3)     Shape-R: (320, 588, 3)\n",
      "\n",
      "4. Image names: imgrect_000000003_c0.pgm & imgrect_000000003_c1.pgm\n",
      "\t\tShape-L: (320, 588, 3)     Shape-R: (320, 588, 3)\n",
      "\n",
      "5. Image names: imgrect_000000004_c0.pgm & imgrect_000000004_c1.pgm\n",
      "\t\tShape-L: (320, 588, 3)     Shape-R: (320, 588, 3)\n",
      "\n",
      "---------------------\n",
      "[+] Finished viewing 5 initial samples.\n"
     ]
    }
   ],
   "source": [
    "import cv2 \n",
    "import time\n",
    "import pandas as pd\n",
    "import numpy as np\n",
    "import matplotlib.pyplot as plt\n",
    "\n",
    "### Change filepath according to your machine config\n",
    "trainDataPath = \"C:\\\\Users\\\\HP\\\\Desktop\\\\Research\\\\Trajectory_Markov_Research\\\\Implementations\\Dataset_Dailmer\\\\Data\\\\TrainingData\\\\2012-04-02_115542\\\\RectGrabber\\\\\"\n",
    "\n",
    "class pipeline:\n",
    "    def showSampleImages(self):\n",
    "        print(\"[+]Logging sample images' details\\n---------------------\")\n",
    "        for i in range(5):\n",
    "            img_left = \"imgrect_00000000\" + str(i) + \"_c0.pgm\"\n",
    "            img_right = \"imgrect_00000000\" + str(i) + \"_c1.pgm\"\n",
    "\n",
    "            try:\n",
    "                imgL = cv2.imread(trainDataPath+img_left)\n",
    "                imgR = cv2.imread(trainDataPath+img_right)\n",
    "                \n",
    "                # Resize images\n",
    "                imLeft = cv2.resize(imgL, (0,0), fx=0.5, fy=0.5) \n",
    "                imRight = cv2.resize(imgR, (0,0), fx=0.5, fy=0.5)\n",
    "                \n",
    "                print(f\"{i+1}. Image names: {img_left} & {img_right}\\n\\t\\tShape-L: {imLeft.shape}     Shape-R: {imRight.shape}\\n\")\n",
    "                cv2.imshow(f\"Left {img_left}\", imLeft)\n",
    "                cv2.imshow(f\"Right {img_right}\", imRight)\n",
    "                k = cv2.waitKey(0)\n",
    "            \n",
    "                # Destroy windows automatically on any key press\n",
    "                if k is not None:\n",
    "                    cv2.destroyWindow(f\"Left {img_left}\")\n",
    "                    cv2.destroyWindow(f\"Right {img_right}\")\n",
    "            \n",
    "            except:\n",
    "                if imgL is None:\n",
    "                    print(f\"[!]Couldn't load L-image: {img_left}\")\n",
    "                if imgR is None:\n",
    "                    print(f\"[!]Couldn't load R-image: {img_right}\")\n",
    "                continue\n",
    "                \n",
    "        print(\"---------------------\\n[+] Finished viewing 5 initial samples.\")\n",
    "        \n",
    "    def __init__(self):\n",
    "        print(f\"Loaded OpenCV version {cv2.__version__} @ {time.asctime(time.localtime(time.time()))}\\n\")\n",
    "        self.showSampleImages()\n",
    "\n",
    "\n",
    "a = pipeline()"
   ]
  },
  {
   "cell_type": "code",
   "execution_count": null,
   "metadata": {},
   "outputs": [],
   "source": []
  }
 ],
 "metadata": {
  "kernelspec": {
   "display_name": "Python 3",
   "language": "python",
   "name": "python3"
  },
  "language_info": {
   "codemirror_mode": {
    "name": "ipython",
    "version": 3
   },
   "file_extension": ".py",
   "mimetype": "text/x-python",
   "name": "python",
   "nbconvert_exporter": "python",
   "pygments_lexer": "ipython3",
   "version": "3.6.9"
  }
 },
 "nbformat": 4,
 "nbformat_minor": 2
}
